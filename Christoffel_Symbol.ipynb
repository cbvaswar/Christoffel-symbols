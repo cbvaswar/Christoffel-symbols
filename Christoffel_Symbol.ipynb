{
 "cells": [
  {
   "cell_type": "code",
   "execution_count": 1,
   "metadata": {},
   "outputs": [],
   "source": [
    "from sympy import *\n",
    "import numpy as np\n",
    "import sympy as sp"
   ]
  },
  {
   "cell_type": "code",
   "execution_count": 2,
   "metadata": {},
   "outputs": [],
   "source": [
    "# \\Gamma^{\\mu}_{\\nu \\beta} = g^{\\mu \\nu} = \\Gamma_{\\nu \\alpha \\beta} \n",
    "# where \\Gamma_{\\nu \\alpha \\beta} = \\frac{1}{2} [ {\\d_{x^{\\beta}}g_{\\mu \\alpha}} + {\\d_{x^{\\alpha}}g_{\\mu \\beta}} \n",
    "# - {\\d_{x^{\\mu}}g_{\\alpha \\beta}} ]\n"
   ]
  },
  {
   "cell_type": "code",
   "execution_count": 10,
   "metadata": {},
   "outputs": [],
   "source": [
    "# Class to calculate christoffel symbol for Schwarzschild metric\n",
    "# ds^2 = -(1-2M/r) dt^2 + 1/(1-2M/r) dr^2 + r^2 d\\theta^2 + r^2 sin(\\theta)^2 d\\phi^2\n",
    "\n",
    "class Christoffel_Symbol:\n",
    "    #define the symbols\n",
    "    global M, r, theta, phi \n",
    "    #global r\n",
    "    #global theta\n",
    "    #global phi\n",
    "    M,t,r,theta,phi = symbols(\"M t r theta phi\",real=True)\n",
    "    #define the coordinate system (Here used spherical polar r,theta,phi)\n",
    "    xi = [t,r,theta,phi]\n",
    " \n",
    "    #define the Schwarzschild metric\n",
    "    def Schwarzschild_Metric(self,i,j):\n",
    "        g00 = -(1-2*M/r)\n",
    "        g11 = 1/(1-2*M/r)\n",
    "        g22 = r**2\n",
    "        g33 = r**2*sin(theta)**2\n",
    "        return ([[g00,0,0,0],[0,g11,0,0],[0,0,g22,0],[0,0,0,g33]])[i][j]\n",
    "    \n",
    "    #define derivative of the metric\n",
    "    def deriv_m(self,i,j,k):\n",
    "        return sp.diff(self.Schwarzschild_Metric(i,j),self.xi[k])\n",
    "    \n",
    "    #define inverse of the metric\n",
    "    def Inv_m(self,i,j):\n",
    "        K = Matrix([[self.Schwarzschild_Metric(0,0),self.Schwarzschild_Metric(0,1),self.Schwarzschild_Metric(0,2),self.Schwarzschild_Metric(0,3)],\n",
    "                [self.Schwarzschild_Metric(1,0),self.Schwarzschild_Metric(1,1),self.Schwarzschild_Metric(1,2),self.Schwarzschild_Metric(1,3)],\n",
    "                [self.Schwarzschild_Metric(2,0),self.Schwarzschild_Metric(2,1),self.Schwarzschild_Metric(2,2),self.Schwarzschild_Metric(2,3)],\n",
    "                [self.Schwarzschild_Metric(3,0),self.Schwarzschild_Metric(3,1),self.Schwarzschild_Metric(3,2),self.Schwarzschild_Metric(3,3)]])\n",
    "        return K.inv(method=\"LU\")[i,j]\n",
    "    \n",
    "    #define christoffel symbol\n",
    "    def Gamma(self,i,j,k):\n",
    "        GammaSymb = 0\n",
    "        for l in range(4):\n",
    "            GammaSymb+=0.5*self.Inv_m(i,l)*(self.deriv_m(k,l,j)+self.deriv_m(l,j,k)-self.deriv_m(j,k,l))\n",
    "        return simplify(GammaSymb)\n",
    "\n",
    "       "
   ]
  },
  {
   "cell_type": "code",
   "execution_count": 16,
   "metadata": {},
   "outputs": [
    {
     "data": {
      "text/latex": [
       "$\\displaystyle \\frac{1.0}{\\tan{\\left(\\theta \\right)}}$"
      ],
      "text/plain": [
       "1.0/tan(theta)"
      ]
     },
     "execution_count": 16,
     "metadata": {},
     "output_type": "execute_result"
    }
   ],
   "source": [
    "Christoffel_Symbol().Gamma(3,2,3)"
   ]
  },
  {
   "cell_type": "code",
   "execution_count": 17,
   "metadata": {},
   "outputs": [],
   "source": [
    "# Class to calculate christoffel symbol for Freedmann-Lamitre-Robertson-Walker metric\n",
    "# ds^2 = - dt^2 + a^2(t) [ 1/(1-K*r**2) dr^2 + r^2 d\\theta^2 + r^2 sin(\\theta)^2 d\\phi^2 ]\n",
    "\n",
    "class Christoffel_Symbol_FLRW:\n",
    "    global K,t,r,theta,phi\n",
    "    #define the symbols\n",
    "    K,t,r,theta,phi = symbols(\"K t r theta phi\",real=True)\n",
    "    \n",
    "    #define the coordinate system (Here used spherical polar r,theta,phi)\n",
    "    xi = [t,r,theta,phi]\n",
    "    a = sp.Function('a')(t)\n",
    "    adot = a.diff(t)\n",
    "    \n",
    "    #define the metric\n",
    "    def FLRW_metric(self,i,j):\n",
    "        g00 = -1\n",
    "        g11 = self.a**2* (1/(1-K*r**2))\n",
    "        g22 = self.a**2 *r**2\n",
    "        g33 = self.a**2* r**2*sin(theta)**2\n",
    "        return np.array([[g00,0,0,0],[0,g11,0,0],[0,0,g22,0],[0,0,0,g33]])[i][j]\n",
    "    \n",
    "    #define derivative of the metric\n",
    "    def deriv_m(self,i,j,k):\n",
    "        return sp.diff(self.FLRW_metric(i,j),self.xi[k])\n",
    "    \n",
    "    #define inverse of metric\n",
    "    def Inv_m(self,i,j):\n",
    "        K = Matrix([[self.FLRW_metric(0,0),self.FLRW_metric(0,1),self.FLRW_metric(0,2),self.FLRW_metric(0,3)],\n",
    "                [self.FLRW_metric(1,0),self.FLRW_metric(1,1),self.FLRW_metric(1,2),self.FLRW_metric(1,3)],\n",
    "                [self.FLRW_metric(2,0),self.FLRW_metric(2,1),self.FLRW_metric(2,2),self.FLRW_metric(2,3)],\n",
    "                [self.FLRW_metric(3,0),self.FLRW_metric(3,1),self.FLRW_metric(3,2),self.FLRW_metric(3,3)]])\n",
    "        return K.inv(method=\"LU\")[i,j]\n",
    "    \n",
    "    def Gamma(self,i,j,k):\n",
    "        GammaSymb = 0\n",
    "        for l in range(4):\n",
    "            GammaSymb+=0.5*self.Inv_m(i,l)*(self.deriv_m(k,l,j)+self.deriv_m(l,j,k)-self.deriv_m(j,k,l))\n",
    "        return simplify(GammaSymb)\n",
    "    "
   ]
  },
  {
   "cell_type": "code",
   "execution_count": 19,
   "metadata": {},
   "outputs": [
    {
     "data": {
      "text/latex": [
       "$\\displaystyle \\frac{1.0}{r}$"
      ],
      "text/plain": [
       "1.0/r"
      ]
     },
     "execution_count": 19,
     "metadata": {},
     "output_type": "execute_result"
    }
   ],
   "source": [
    "Christoffel_Symbol_FLRW().Gamma(2,1,2)"
   ]
  },
  {
   "cell_type": "code",
   "execution_count": 20,
   "metadata": {},
   "outputs": [],
   "source": [
    "# Class to calculate christoffel symbol for Perturbation Universe metric\n",
    "# ds^2 = - a^2(t) [ 1+(2*Psi(x,y,z,t)) dt^2 +  1+(2*Psi(x,y,z,t)) dr^2 + r^2 d\\theta^2 + r^2 sin(\\theta)^2 d\\phi^2 ]\n",
    "\n",
    "class Christoffel_Symbol_Pertb_Univ:\n",
    "    global t,x,y,z\n",
    "    #define the symbols\n",
    "    t,x,y,z = symbols(\"t x y z\",real=True)\n",
    "    \n",
    "    #define the coordinate system (Here used spherical polar r,theta,phi)\n",
    "    xi = [t,x,y,t]\n",
    "    a = sp.Function('a')(t)\n",
    "    Phi = sp.Function('Phi')(x,y,z,t)\n",
    "    Psi = sp.Function('Psi')(x,y,z,t)\n",
    "    \n",
    "    #define the metric\n",
    "    def Pertb_metric(self,i,j):\n",
    "        g00 = self.a**2 * (1+(2*self.Phi))\n",
    "        g11 = -self.a**2 * (1-(2*self.Psi))\n",
    "        g22 = -self.a**2 * (1-(2*self.Psi))\n",
    "        g33 = -self.a**2 * (1-(2*self.Psi))\n",
    "        return np.array([[g00,0,0,0],[0,g11,0,0],[0,0,g22,0],[0,0,0,g33]])[i][j]\n",
    "    \n",
    "    #define derivative of the metric\n",
    "    def deriv_m(self,i,j,k):\n",
    "        return sp.diff(self.Pertb_metric(i,j),self.xi[k])\n",
    "    \n",
    "    #define inverse of metric\n",
    "    def Inv_m(self,i,j):\n",
    "        K = Matrix([[self.Pertb_metric(0,0),self.Pertb_metric(0,1),self.Pertb_metric(0,2),self.Pertb_metric(0,3)],\n",
    "                [self.Pertb_metric(1,0),self.Pertb_metric(1,1),self.Pertb_metric(1,2),self.Pertb_metric(1,3)],\n",
    "                [self.Pertb_metric(2,0),self.Pertb_metric(2,1),self.Pertb_metric(2,2),self.Pertb_metric(2,3)],\n",
    "                [self.Pertb_metric(3,0),self.Pertb_metric(3,1),self.Pertb_metric(3,2),self.Pertb_metric(3,3)]])\n",
    "        return K.inv(method=\"LU\")[i,j]\n",
    "    \n",
    "    def Gamma(self,i,j,k):\n",
    "        GammaSymb = 0\n",
    "        for l in range(4):\n",
    "            GammaSymb+=0.5*self.Inv_m(i,l)*(self.deriv_m(k,l,j)+self.deriv_m(l,j,k)-self.deriv_m(j,k,l))\n",
    "        return simplify(GammaSymb)\n",
    "    "
   ]
  },
  {
   "cell_type": "code",
   "execution_count": 21,
   "metadata": {},
   "outputs": [
    {
     "data": {
      "text/latex": [
       "$\\displaystyle 0$"
      ],
      "text/plain": [
       "0"
      ]
     },
     "execution_count": 21,
     "metadata": {},
     "output_type": "execute_result"
    }
   ],
   "source": [
    "Christoffel_Symbol_Pertb_Univ().Gamma(0,1,2)"
   ]
  },
  {
   "cell_type": "code",
   "execution_count": null,
   "metadata": {},
   "outputs": [],
   "source": []
  }
 ],
 "metadata": {
  "kernelspec": {
   "display_name": "Python 3",
   "language": "python",
   "name": "python3"
  },
  "language_info": {
   "codemirror_mode": {
    "name": "ipython",
    "version": 3
   },
   "file_extension": ".py",
   "mimetype": "text/x-python",
   "name": "python",
   "nbconvert_exporter": "python",
   "pygments_lexer": "ipython3",
   "version": "3.8.3"
  }
 },
 "nbformat": 4,
 "nbformat_minor": 4
}
